{
 "cells": [
  {
   "cell_type": "markdown",
   "metadata": {},
   "source": [
    "# Lambda Functions \n",
    "\n",
    "## Objectives\n",
    "\n",
    "* Implement lambda function to solve quadratic equation with given parameters\n",
    "* Implement a temperature converter as lambda function that converts between Celsius and Fahrenheit with some text processing to show units. \n",
    "* Process text to calculate the length of each word in a sentence. "
   ]
  },
  {
   "cell_type": "markdown",
   "metadata": {},
   "source": [
    "In this lab, we shall apply the skills in the lambda functions lesson into some data analyses contexts. "
   ]
  },
  {
   "cell_type": "markdown",
   "metadata": {},
   "source": [
    "### Exercise 1 - Quadratic Equation\n",
    "\n",
    "Let's create a lambda function that takes in the parameters for calculating the quadratic equation. The formula for quadratic equation is :\n",
    "![](https://upload.wikimedia.org/wikipedia/commons/thumb/c/c4/Quadratic_formula.svg/800px-Quadratic_formula.svg.png)\n",
    "\n",
    "The function will take in a, b, c values and return the positive and negative factors as a tuple. "
   ]
  },
  {
   "cell_type": "code",
   "execution_count": 2,
   "metadata": {},
   "outputs": [],
   "source": [
    "import math\n",
    "\n",
    "quad_eq = None"
   ]
  },
  {
   "cell_type": "code",
   "execution_count": 4,
   "metadata": {},
   "outputs": [],
   "source": [
    "# Uncomment and run the following line of code \n",
    "\n",
    "# quad_eq(100,45,2), quad_eq(100, 41, 2), quad_eq(100, 41, 4)\n",
    "\n",
    "## ((-0.05, -0.4), (-0.0565917792034417, -0.3534082207965583), (-0.16, -0.25))"
   ]
  },
  {
   "cell_type": "markdown",
   "metadata": {},
   "source": [
    "### Exercise 2  - Temperature Conversion\n",
    "\n",
    "Write a lambda function that takes two arguments: a number to represent temperature value and `F` or `C` to show whether the temperature is in Fahrenheit of Celsius. \n",
    "\n",
    "The function should calculate and return Celsius if the temperature was originally in Fahrenheit and vice versa. Also append the `F` or `C` to the answer to show current units. Here are the required formulas:\n",
    "![](http://www.101computing.net/wp/wp-content/uploads/fahrenheit_to_celsius_formulas.png)"
   ]
  },
  {
   "cell_type": "code",
   "execution_count": 5,
   "metadata": {},
   "outputs": [],
   "source": [
    "convert_temp = None"
   ]
  },
  {
   "cell_type": "markdown",
   "metadata": {},
   "source": [
    "Uncomment and run the following:"
   ]
  },
  {
   "cell_type": "code",
   "execution_count": 6,
   "metadata": {},
   "outputs": [],
   "source": [
    "# convert_temp(32,'F') # '0.0 C'"
   ]
  },
  {
   "cell_type": "code",
   "execution_count": 7,
   "metadata": {},
   "outputs": [],
   "source": [
    "# convert_temp(-17.77,'C') # '0.013 F'"
   ]
  },
  {
   "cell_type": "code",
   "execution_count": 8,
   "metadata": {},
   "outputs": [],
   "source": [
    "# convert_temp(100,'C') # '212.0 F'"
   ]
  },
  {
   "cell_type": "code",
   "execution_count": 9,
   "metadata": {
    "scrolled": true
   },
   "outputs": [],
   "source": [
    "# convert_temp(100,'X') # 'Invalid'"
   ]
  },
  {
   "cell_type": "markdown",
   "metadata": {},
   "source": [
    "### Exercise 3 - Basic NLP\n",
    "\n",
    "Take the sentence \"The quick brown fox jumps over the lazy dog\" , and using `map` and `lambda` functions calculate the length of each word in the sentence. i.e. \n",
    "\n",
    "```python\n",
    "['The', 'quick', 'brown', 'fox', 'jumps', 'over', 'the', 'lazy', 'dog']\n",
    "Output:\n",
    "[3, 5, 5, 3, 5, 4, 3, 4, 3]\n",
    "```\n",
    "\n",
    "Hint: You will need the `split()` function to split the sentence "
   ]
  },
  {
   "cell_type": "code",
   "execution_count": 10,
   "metadata": {},
   "outputs": [],
   "source": [
    "sentence = \"The quick brown fox jumps over the lazy dog\"\n",
    "lengths = None\n",
    "lengths\n",
    "\n",
    "# [3, 5, 5, 3, 5, 4, 3, 4, 3]"
   ]
  },
  {
   "cell_type": "markdown",
   "metadata": {},
   "source": [
    "## Summary\n",
    "\n",
    "In this lab we applied labda function in a variatey of contexts as alternative to creating custom for loops. In the following lab, we shall practice more lambda functions in conjunction with `map` and `filter` functions. Happy coding.  "
   ]
  }
 ],
 "metadata": {
  "kernelspec": {
   "display_name": "Python 3",
   "language": "python",
   "name": "python3"
  },
  "language_info": {
   "codemirror_mode": {
    "name": "ipython",
    "version": 3
   },
   "file_extension": ".py",
   "mimetype": "text/x-python",
   "name": "python",
   "nbconvert_exporter": "python",
   "pygments_lexer": "ipython3",
   "version": "3.6.4"
  }
 },
 "nbformat": 4,
 "nbformat_minor": 2
}
